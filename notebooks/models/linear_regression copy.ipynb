{
 "cells": [
  {
   "cell_type": "code",
   "execution_count": 464,
   "metadata": {},
   "outputs": [],
   "source": [
    "import os\n",
    "import re\n",
    "from math import sqrt\n",
    "import pandas as pd\n",
    "import numpy as np\n",
    "import geopandas as gpd\n",
    "from shapely import wkt\n",
    "from pysal.lib import weights\n",
    "from pysal.explore import esda\n",
    "import matplotlib.pyplot as plt\n",
    "import seaborn as sns\n",
    "import contextily\n",
    "from spreg import OLS_Regimes\n",
    "from pysal.model import spreg\n",
    "import statsmodels.formula.api as smf\n",
    "import contextily as ctx\n",
    "from libpysal.weights import KNN\n",
    "from spreg import OLS\n",
    "from libpysal.weights import lag_spatial\n",
    "from spreg import GM_Lag\n",
    "from libpysal.weights import Kernel\n",
    "from sklearn.compose import ColumnTransformer\n",
    "from sklearn.model_selection import RandomizedSearchCV, TimeSeriesSplit\n",
    "from sklearn.preprocessing import StandardScaler, OneHotEncoder\n",
    "from sklearn.metrics import mean_squared_error, r2_score, mean_absolute_error"
   ]
  },
  {
   "cell_type": "markdown",
   "metadata": {},
   "source": [
    "# Spacial Regression\n",
    "\n",
    "--> Embed location through the model"
   ]
  },
  {
   "cell_type": "markdown",
   "metadata": {},
   "source": [
    "## Load data"
   ]
  },
  {
   "cell_type": "code",
   "execution_count": 465,
   "metadata": {},
   "outputs": [
    {
     "data": {
      "text/plain": [
       "378"
      ]
     },
     "execution_count": 465,
     "metadata": {},
     "output_type": "execute_result"
    }
   ],
   "source": [
    "well_filter = 1\n",
    "\n",
    "current_dir = os.getcwd()\n",
    "path = os.path.join(current_dir, '../../data/aligned', f\"merged_dataset_{well_filter}.csv\")\n",
    "df = pd.read_csv(path)\n",
    "len(df)"
   ]
  },
  {
   "cell_type": "code",
   "execution_count": 466,
   "metadata": {},
   "outputs": [],
   "source": [
    "# df = df[df[\"soil region\"] != \"veen\"]\n",
    "# len(df)"
   ]
  },
  {
   "cell_type": "markdown",
   "metadata": {},
   "source": [
    "## Sort by date"
   ]
  },
  {
   "cell_type": "code",
   "execution_count": 467,
   "metadata": {},
   "outputs": [],
   "source": [
    "# sort by date\n",
    "df[\"date\"] = pd.to_datetime(df[\"date\"])\n",
    "df = df.sort_values(\"date\").reset_index(drop=True)"
   ]
  },
  {
   "cell_type": "code",
   "execution_count": 468,
   "metadata": {},
   "outputs": [
    {
     "name": "stdout",
     "output_type": "stream",
     "text": [
      "year_month\n",
      "2008-08     6\n",
      "2008-09    39\n",
      "2009-06     9\n",
      "2010-03    48\n",
      "2010-08     7\n",
      "2011-01     8\n",
      "2011-05     6\n",
      "2012-02     8\n",
      "2012-03    25\n",
      "2012-04     4\n",
      "2012-06     8\n",
      "2012-10     2\n",
      "2013-10     9\n",
      "2014-09     7\n",
      "2015-06    40\n",
      "2015-07     1\n",
      "2015-08     1\n",
      "2015-09     1\n",
      "2016-09     7\n",
      "2017-08     2\n",
      "2017-11     1\n",
      "2017-12     6\n",
      "2018-05    43\n",
      "2018-06     4\n",
      "2018-08     7\n",
      "2019-07     9\n",
      "2020-05     2\n",
      "2020-07     4\n",
      "2020-08     1\n",
      "2021-03    10\n",
      "2021-04    13\n",
      "2021-05    23\n",
      "2022-07     3\n",
      "2022-08     4\n",
      "2023-07     8\n",
      "2023-08     2\n",
      "Freq: M, Name: count, dtype: int64\n"
     ]
    },
    {
     "name": "stderr",
     "output_type": "stream",
     "text": [
      "/var/folders/fr/h0n611t55y51b_mts5q50l540000gn/T/ipykernel_32142/2666782288.py:1: UserWarning: Converting to PeriodArray/Index representation will drop timezone information.\n",
      "  df['year_month'] = df['date'].dt.to_period('M')  # year + month (e.g., 2012-03)\n"
     ]
    }
   ],
   "source": [
    "df['year_month'] = df['date'].dt.to_period('M')  # year + month (e.g., 2012-03)\n",
    "\n",
    "# Count number of data points per year-month\n",
    "counts = df['year_month'].value_counts().sort_index()\n",
    "print(counts)"
   ]
  },
  {
   "cell_type": "markdown",
   "metadata": {},
   "source": [
    "## Remove outlier based on \"Soil region\""
   ]
  },
  {
   "cell_type": "code",
   "execution_count": 469,
   "metadata": {},
   "outputs": [
    {
     "name": "stdout",
     "output_type": "stream",
     "text": [
      "soil region\n",
      "zand    263\n",
      "klei     82\n",
      "veen     33\n",
      "Name: count, dtype: int64\n"
     ]
    }
   ],
   "source": [
    "print(df[\"soil region\"].value_counts())"
   ]
  },
  {
   "cell_type": "markdown",
   "metadata": {},
   "source": [
    "## Add month and year as features"
   ]
  },
  {
   "cell_type": "code",
   "execution_count": 470,
   "metadata": {},
   "outputs": [],
   "source": [
    "# df[\"month\"] = df[\"date\"].dt.month\n",
    "df[\"year\"] = df[\"date\"].dt.year"
   ]
  },
  {
   "cell_type": "markdown",
   "metadata": {},
   "source": [
    "## Log transform"
   ]
  },
  {
   "cell_type": "code",
   "execution_count": 471,
   "metadata": {},
   "outputs": [],
   "source": [
    "df[\"nitrate\"] = np.log1p(df[\"nitrate\"])"
   ]
  },
  {
   "cell_type": "markdown",
   "metadata": {},
   "source": [
    "## Remove columns"
   ]
  },
  {
   "cell_type": "code",
   "execution_count": 472,
   "metadata": {},
   "outputs": [
    {
     "name": "stdout",
     "output_type": "stream",
     "text": [
      "Index(['nitrate', 'geometry', 'soil region', 'landuse code', 'population',\n",
      "       'groundwater depth', 'elevation', 'precipitation', 'temperature',\n",
      "       'n deposition', 'mainsoilclassification_1', 'organicmattercontent_1',\n",
      "       'density_1', 'acidity_1', 'year_month', 'year'],\n",
      "      dtype='object')\n"
     ]
    },
    {
     "data": {
      "text/plain": [
       "378"
      ]
     },
     "execution_count": 472,
     "metadata": {},
     "output_type": "execute_result"
    }
   ],
   "source": [
    "df = df.drop(columns=[\"date\", 'bro-id', 'lon', 'lat'])\n",
    "print(df.columns)\n",
    "len(df)"
   ]
  },
  {
   "cell_type": "markdown",
   "metadata": {},
   "source": [
    "## Change column type"
   ]
  },
  {
   "cell_type": "code",
   "execution_count": 473,
   "metadata": {},
   "outputs": [],
   "source": [
    "# convert to categorical\n",
    "predefined_categories = {\n",
    "    \"soil region\": None,\n",
    "    \"landuse code\": None,\n",
    "    \"mainsoilclassification_1\": None \n",
    "}\n",
    "\n",
    "\n",
    "for col, fixed_categories in predefined_categories.items():\n",
    "    if col in df.columns:\n",
    "        categories = sorted(df[col].dropna().unique().tolist())\n",
    "        \n",
    "        df[col] = pd.Categorical(df[col], categories=categories)"
   ]
  },
  {
   "cell_type": "code",
   "execution_count": 474,
   "metadata": {},
   "outputs": [
    {
     "data": {
      "text/plain": [
       "nitrate                       float64\n",
       "geometry                       object\n",
       "soil region                  category\n",
       "landuse code                 category\n",
       "population                    float64\n",
       "groundwater depth             float64\n",
       "elevation                     float64\n",
       "precipitation                 float64\n",
       "temperature                   float64\n",
       "n deposition                  float64\n",
       "mainsoilclassification_1     category\n",
       "organicmattercontent_1        float64\n",
       "density_1                     float64\n",
       "acidity_1                     float64\n",
       "year_month                  period[M]\n",
       "year                            int32\n",
       "dtype: object"
      ]
     },
     "execution_count": 474,
     "metadata": {},
     "output_type": "execute_result"
    }
   ],
   "source": [
    "df.dtypes"
   ]
  },
  {
   "cell_type": "markdown",
   "metadata": {},
   "source": [
    "## Remove spatial outlier"
   ]
  },
  {
   "cell_type": "code",
   "execution_count": 475,
   "metadata": {},
   "outputs": [],
   "source": [
    "# GMW000000024093\n",
    "\n",
    "# target_well = ['GAR000000000307', 'GAR000000000308', 'GAR000000000309']\n",
    "# df = df.drop(df[df[\"bro-id\"].isin(target_well)].index)\n",
    "# len(df)"
   ]
  },
  {
   "cell_type": "markdown",
   "metadata": {},
   "source": [
    "## Preprocess (alternative)"
   ]
  },
  {
   "cell_type": "code",
   "execution_count": 476,
   "metadata": {},
   "outputs": [],
   "source": [
    "def split_and_preprocess(df, cols_to_drop, holdout_cols = None):\n",
    "    if holdout_cols is None:\n",
    "        holdout_cols = []\n",
    "\n",
    "    df = df.drop(columns=cols_to_drop)\n",
    "    df = df.dropna()\n",
    "    len(df)\n",
    "\n",
    "    # n = len(df)\n",
    "    # train_size = int(n * 0.8)\n",
    "\n",
    "    # train_df = df.iloc[:train_size]\n",
    "    # test_df = df.iloc[train_size:]\n",
    "\n",
    "    # print(f\"Train: {len(train_df)}\")\n",
    "    # print(f\"Test: {len(test_df)}\")\n",
    "\n",
    "    train_years = list(range(2008, 2018))\n",
    "    test_years = [2018]\n",
    "\n",
    "    # Filter datasets\n",
    "    train_df = df[df[\"year\"].isin(train_years)].copy()\n",
    "    test_df = df[df[\"year\"].isin(test_years)].copy()\n",
    "\n",
    "    # print(test_df)\n",
    "\n",
    "    print(f\"Train: {len(train_df)}\")\n",
    "    print(f\"Test: {len(test_df)}\")\n",
    "\n",
    "    holdout_train = train_df[holdout_cols].copy()\n",
    "    holdout_test = test_df[holdout_cols].copy()\n",
    "\n",
    "    X_train_raw = train_df.drop(columns=[\"nitrate\", \"year\"] + holdout_cols).copy()\n",
    "    y_train = train_df[\"nitrate\"].values.reshape(-1, 1)\n",
    "\n",
    "    X_test_raw = test_df.drop(columns=[\"nitrate\", \"year\"] + holdout_cols).copy()\n",
    "    y_test = test_df[\"nitrate\"].values.reshape(-1, 1)\n",
    "\n",
    "    categorical_cols = X_train_raw.select_dtypes(include=\"category\").columns.tolist()\n",
    "    numerical_cols = X_train_raw.select_dtypes(include=[\"float64\", \"int64\"]).columns.tolist()\n",
    "\n",
    "    # construct a transformer\n",
    "    transformers = []\n",
    "\n",
    "    if categorical_cols:\n",
    "        transformers.append(\n",
    "            (\"cat_ohe\", OneHotEncoder(handle_unknown=\"ignore\", drop='first', sparse_output=False), categorical_cols)\n",
    "        )\n",
    "\n",
    "    if numerical_cols:\n",
    "        transformers.append(\n",
    "            (\"num_scaler\", StandardScaler(), numerical_cols)\n",
    "        )\n",
    "\n",
    "    preprocessor = ColumnTransformer(transformers)\n",
    "\n",
    "    X_train = preprocessor.fit_transform(X_train_raw)\n",
    "    X_test = preprocessor.transform(X_test_raw)\n",
    "\n",
    "    # extract feature names\n",
    "    if categorical_cols:\n",
    "        cat_ohe = preprocessor.named_transformers_[\"cat_ohe\"]\n",
    "        ohe_feature_names = cat_ohe.get_feature_names_out(categorical_cols).tolist()\n",
    "    else:\n",
    "        ohe_feature_names = []\n",
    "\n",
    "    if numerical_cols:\n",
    "        num_feature_names = numerical_cols.copy()\n",
    "    else:\n",
    "        numerical_cols = []\n",
    "    \n",
    "    feature_names = ohe_feature_names + num_feature_names\n",
    "    print(feature_names)\n",
    "\n",
    "    # convert back to pd Dataframe\n",
    "    X_train = pd.DataFrame(X_train, columns=feature_names, index=X_train_raw.index)\n",
    "    X_test = pd.DataFrame(X_test, columns=feature_names, index=X_test_raw.index)\n",
    "    y_train = pd.DataFrame(y_train, columns=[\"nitrate\"], index=X_train_raw.index)\n",
    "    y_test = pd.DataFrame(y_test, columns=[\"nitrate\"], index=X_test_raw.index)\n",
    "\n",
    "    print(X_train.shape)\n",
    "\n",
    "    X_train = pd.concat([X_train, holdout_train], axis=1)\n",
    "    X_test = pd.concat([X_test, holdout_test], axis=1)\n",
    "\n",
    "    return X_train, y_train, X_test, y_test, feature_names, preprocessor"
   ]
  },
  {
   "cell_type": "markdown",
   "metadata": {},
   "source": [
    "## Simple OLS regression"
   ]
  },
  {
   "cell_type": "code",
   "execution_count": 477,
   "metadata": {},
   "outputs": [
    {
     "name": "stdout",
     "output_type": "stream",
     "text": [
      "Train: 156\n",
      "Test: 39\n",
      "['mainsoilclassification_1_Kalkloze zandgronden', 'mainsoilclassification_1_Moerige gronden', 'mainsoilclassification_1_Podzolgronden', 'mainsoilclassification_1_Rivierkleigronden', 'mainsoilclassification_1_Veengronden', 'mainsoilclassification_1_Zeekleigronden', 'population', 'groundwater depth', 'elevation', 'precipitation', 'temperature', 'n deposition', 'organicmattercontent_1', 'density_1', 'acidity_1']\n",
      "(156, 15)\n"
     ]
    }
   ],
   "source": [
    "cols_to_drop_1 = ['landuse code', 'soil region'] # 'soil region'\n",
    "X_train, y_train, X_test, y_test, feature_names, preprocessor = split_and_preprocess(df, cols_to_drop_1)"
   ]
  },
  {
   "cell_type": "code",
   "execution_count": 478,
   "metadata": {},
   "outputs": [
    {
     "name": "stdout",
     "output_type": "stream",
     "text": [
      "['mainsoilclassification_1_Kalkloze zandgronden', 'mainsoilclassification_1_Moerige gronden', 'mainsoilclassification_1_Podzolgronden', 'mainsoilclassification_1_Rivierkleigronden', 'mainsoilclassification_1_Veengronden', 'mainsoilclassification_1_Zeekleigronden', 'population', 'groundwater depth', 'elevation', 'precipitation', 'temperature', 'n deposition', 'organicmattercontent_1', 'density_1', 'acidity_1']\n",
      "REGRESSION RESULTS\n",
      "------------------\n",
      "\n",
      "SUMMARY OF OUTPUT: ORDINARY LEAST SQUARES\n",
      "-----------------------------------------\n",
      "Data set            :     unknown\n",
      "Weights matrix      :        None\n",
      "Dependent Variable  :     nitrate                Number of Observations:         156\n",
      "Mean dependent var  :      0.8999                Number of Variables   :          16\n",
      "S.D. dependent var  :      1.0164                Degrees of Freedom    :         140\n",
      "R-squared           :      0.6186\n",
      "Adjusted R-squared  :      0.5777\n",
      "Sum squared residual:     61.0732                F-statistic           :     15.1382\n",
      "Sigma-square        :       0.436                Prob(F-statistic)     :    1.71e-22\n",
      "S.E. of regression  :       0.660                Log likelihood        :    -148.207\n",
      "Sigma-square ML     :       0.391                Akaike info criterion :     328.415\n",
      "S.E of regression ML:      0.6257                Schwarz criterion     :     377.212\n",
      "\n",
      "------------------------------------------------------------------------------------\n",
      "            Variable     Coefficient       Std.Error     t-Statistic     Probability\n",
      "------------------------------------------------------------------------------------\n",
      "            CONSTANT         2.02735         0.16533        12.26232         0.00000\n",
      "mainsoilclassification_1_Kalkloze zandgronden        -1.20209         0.19137        -6.28159         0.00000\n",
      "mainsoilclassification_1_Moerige gronden        -0.79403         0.66967        -1.18569         0.23775\n",
      "mainsoilclassification_1_Podzolgronden        -1.06806         0.22283        -4.79309         0.00000\n",
      "mainsoilclassification_1_Rivierkleigronden        -1.78176         0.31405        -5.67356         0.00000\n",
      "mainsoilclassification_1_Veengronden        -1.02253         0.34204        -2.98952         0.00330\n",
      "mainsoilclassification_1_Zeekleigronden        -1.12530         0.59765        -1.88286         0.06179\n",
      "          population        -0.16600         0.06284        -2.64158         0.00919\n",
      "   groundwater depth         0.20608         0.07960         2.58899         0.01064\n",
      "           elevation         0.11403         0.07327         1.55635         0.12188\n",
      "       precipitation         0.01280         0.05532         0.23128         0.81743\n",
      "         temperature        -0.18752         0.05852        -3.20430         0.00168\n",
      "        n deposition         0.01016         0.07548         0.13462         0.89311\n",
      "organicmattercontent_1        -0.59655         0.26872        -2.22001         0.02803\n",
      "           density_1        -0.34558         0.26069        -1.32560         0.18713\n",
      "           acidity_1        -0.28288         0.07002        -4.04021         0.00009\n",
      "------------------------------------------------------------------------------------\n",
      "\n",
      "REGRESSION DIAGNOSTICS\n",
      "MULTICOLLINEARITY CONDITION NUMBER          13.688\n",
      "\n",
      "TEST ON NORMALITY OF ERRORS\n",
      "TEST                             DF        VALUE           PROB\n",
      "Jarque-Bera                       2          3.427           0.1802\n",
      "\n",
      "DIAGNOSTICS FOR HETEROSKEDASTICITY\n",
      "RANDOM COEFFICIENTS\n",
      "TEST                             DF        VALUE           PROB\n",
      "Breusch-Pagan test               15         39.770           0.0005\n",
      "Koenker-Bassett test             15         43.548           0.0001\n",
      "================================ END OF REPORT =====================================\n"
     ]
    }
   ],
   "source": [
    "print(feature_names)\n",
    "\n",
    "ols_model = spreg.OLS(y_train, X_train, name_y='nitrate', name_x=feature_names)\n",
    "print(ols_model.summary)"
   ]
  },
  {
   "cell_type": "code",
   "execution_count": 479,
   "metadata": {},
   "outputs": [
    {
     "name": "stdout",
     "output_type": "stream",
     "text": [
      "Test R2: 0.4271987960051514\n",
      "Test MAE: 2.273544554611816\n",
      "Test RMSE: 3.2340745525589156\n"
     ]
    }
   ],
   "source": [
    "beta = ols_model.betas.flatten()\n",
    "\n",
    "X_test_with_const = np.hstack([np.ones((X_test.shape[0], 1)), X_test])\n",
    "\n",
    "y_pred = X_test_with_const @ beta\n",
    "y_pred = np.clip(y_pred, 0, None)\n",
    "\n",
    "print(\"Test R2:\", r2_score(np.expm1(y_test),  np.expm1(y_pred)))\n",
    "print(\"Test MAE:\",mean_absolute_error(np.expm1(y_test), np.expm1(y_pred)))\n",
    "print(\"Test RMSE:\", sqrt(mean_squared_error(np.expm1(y_test), np.expm1(y_pred))))"
   ]
  },
  {
   "cell_type": "code",
   "execution_count": 480,
   "metadata": {},
   "outputs": [
    {
     "data": {
      "text/plain": [
       "array([ 0.58521247,  0.36200281,  0.2339999 ,  3.45395182,  1.10637231,\n",
       "        4.02586107,  4.04928208,  6.51738287,  6.84537973,  3.51535306,\n",
       "        6.01168985,  0.87311405,  0.90643021,  0.94893384,  2.07623007,\n",
       "        7.51831649,  3.28108303,  0.        , 12.12566615, 19.65258877,\n",
       "        7.17954127,  5.14136689,  1.13443061,  2.244572  ,  0.46272943,\n",
       "        0.0995947 ,  2.69128947,  1.06576637,  0.        , 10.28108022,\n",
       "       11.39129964, 25.75723906,  0.14882355,  0.        ,  0.16470173,\n",
       "        2.6785966 ,  2.73948601,  1.2398464 ,  0.        ])"
      ]
     },
     "execution_count": 480,
     "metadata": {},
     "output_type": "execute_result"
    }
   ],
   "source": [
    "np.expm1(y_pred)"
   ]
  },
  {
   "cell_type": "markdown",
   "metadata": {},
   "source": [
    "## Learning Curve"
   ]
  },
  {
   "cell_type": "code",
   "execution_count": 481,
   "metadata": {},
   "outputs": [],
   "source": [
    "def learning_curve(X_train, y_train):\n",
    "    print(\"Creating learning curve...\")\n",
    "\n",
    "    n = len(X_train)\n",
    "\n",
    "    train_errors = []\n",
    "    val_errors = []\n",
    "\n",
    "    train_sizes = np.linspace(0.1, 1.0, 10)\n",
    "\n",
    "    for frac in train_sizes:\n",
    "        split_idx = int(n * frac)\n",
    "\n",
    "        X_subset = X_train.iloc[:split_idx]\n",
    "        y_subset = y_train.iloc[:split_idx]\n",
    "\n",
    "        tscv = TimeSeriesSplit(n_splits=7)\n",
    "        fold_train_scores = []\n",
    "        fold_val_scores = []\n",
    "\n",
    "        for train_idx, val_idx in tscv.split(X_subset):\n",
    "            X_tr, X_val = X_subset.iloc[train_idx], X_subset.iloc[val_idx]\n",
    "            y_tr, y_val = y_subset.iloc[train_idx], y_subset.iloc[val_idx]\n",
    "\n",
    "            X_tr = preprocessor.fit_transform(X_tr)\n",
    "            X_val = preprocessor.transform(X_val)\n",
    "\n",
    "            y_tr = y_tr.values.reshape(-1, 1)\n",
    "            y_val = y_val.values.reshape(-1, 1)\n",
    "            \n",
    "            # create fresh model\n",
    "            curr_model = OLS(y_tr, X_tr, name_y='nitrate', name_x=feature_names)\n",
    "\n",
    "            beta = curr_model.betas.flatten()\n",
    "            X_train_with_const = np.hstack([np.ones((X_tr.shape[0], 1)), X_tr])\n",
    "            X_val_with_const = np.hstack([np.ones((X_val.shape[0], 1)), X_val])\n",
    "\n",
    "            y_tr_pred = X_train_with_const @ beta\n",
    "            y_val_pred = X_val_with_const @ beta\n",
    "            \n",
    "            fold_train_scores.append(mean_absolute_error(np.expm1(y_tr), np.expm1(y_tr_pred)))\n",
    "            fold_val_scores.append(mean_absolute_error(np.expm1(y_val), np.expm1(y_val_pred)))\n",
    "\n",
    "        train_errors.append(np.mean(fold_train_scores))\n",
    "        val_errors.append(np.mean(fold_val_scores))\n",
    "\n",
    "    plt.plot(train_sizes * len(X_train), train_errors, label=\"Train MAE\")\n",
    "    plt.plot(train_sizes * len(X_train), val_errors, label=\"Validation MAE\")\n",
    "    plt.xlabel(\"Training Set Size\")\n",
    "    plt.ylabel(\"Train MAE\")\n",
    "    plt.title(\"learning curve\")\n",
    "    plt.legend()\n",
    "    plt.grid(True)\n",
    "    plt.show()\n",
    "\n",
    "# def get_feature_names():\n",
    "#     ohe = preprocessor.named_transformers_[\"cat_ohe\"]\n",
    "#     cat_features = ohe.get_feature_names_out()\n",
    "#     return list(cat_features) + preprocessor.transformers_[1][2]  # numerical feature names"
   ]
  },
  {
   "cell_type": "code",
   "execution_count": 482,
   "metadata": {},
   "outputs": [
    {
     "data": {
      "text/plain": [
       "['mainsoilclassification_1_Kalkloze zandgronden',\n",
       " 'mainsoilclassification_1_Moerige gronden',\n",
       " 'mainsoilclassification_1_Podzolgronden',\n",
       " 'mainsoilclassification_1_Rivierkleigronden',\n",
       " 'mainsoilclassification_1_Veengronden',\n",
       " 'mainsoilclassification_1_Zeekleigronden',\n",
       " 'population',\n",
       " 'groundwater depth',\n",
       " 'elevation',\n",
       " 'precipitation',\n",
       " 'temperature',\n",
       " 'n deposition',\n",
       " 'organicmattercontent_1',\n",
       " 'density_1',\n",
       " 'acidity_1']"
      ]
     },
     "execution_count": 482,
     "metadata": {},
     "output_type": "execute_result"
    }
   ],
   "source": [
    "feature_names"
   ]
  },
  {
   "cell_type": "code",
   "execution_count": 483,
   "metadata": {},
   "outputs": [],
   "source": [
    "# learning_curve(X_train, y_train)"
   ]
  },
  {
   "cell_type": "markdown",
   "metadata": {},
   "source": [
    "## Spatial fixed effects"
   ]
  },
  {
   "cell_type": "markdown",
   "metadata": {},
   "source": [
    "--> We influence constant term\n",
    "\n",
    "--> Instead of assuming the dependent variable behaves uniformly over space, there are systematic effects following a geographical pattern\n",
    "\n",
    "--> Constant term to vary geographically\n",
    "\n",
    "--> **Other** elements of the regression are left untouched and hence apply **uniformly** across space\n",
    "\n",
    "--> Each region gets its own intercept\n",
    "\n",
    "--> Control for spatial heterogeneity"
   ]
  },
  {
   "cell_type": "code",
   "execution_count": 484,
   "metadata": {},
   "outputs": [
    {
     "name": "stdout",
     "output_type": "stream",
     "text": [
      "Train: 156\n",
      "Test: 39\n",
      "['mainsoilclassification_1_Kalkloze zandgronden', 'mainsoilclassification_1_Moerige gronden', 'mainsoilclassification_1_Podzolgronden', 'mainsoilclassification_1_Rivierkleigronden', 'mainsoilclassification_1_Veengronden', 'mainsoilclassification_1_Zeekleigronden', 'population', 'groundwater depth', 'elevation', 'precipitation', 'temperature', 'n deposition', 'organicmattercontent_1', 'density_1', 'acidity_1']\n",
      "(156, 15)\n"
     ]
    }
   ],
   "source": [
    "cols_to_drop_2 = ['landuse code']\n",
    "holdout_cols = [\"soil region\"]\n",
    "\n",
    "X_train, y_train, X_test, y_test, feature_names, preprocessor = split_and_preprocess(df, cols_to_drop_2, holdout_cols)"
   ]
  },
  {
   "cell_type": "code",
   "execution_count": 485,
   "metadata": {},
   "outputs": [],
   "source": [
    "train_df_for_formula = X_train.copy()\n",
    "train_df_for_formula['nitrate'] = y_train\n",
    "\n",
    "test_df_for_formula = X_test.copy()\n",
    "test_df_for_formula['nitrate'] = y_test"
   ]
  },
  {
   "cell_type": "code",
   "execution_count": 486,
   "metadata": {},
   "outputs": [],
   "source": [
    "variable_names = ['population',\n",
    "'groundwater depth',\n",
    "'elevation',\n",
    "'precipitation',\n",
    "'temperature',\n",
    "'n deposition',\n",
    "'organicmattercontent_1',\n",
    "'density_1',\n",
    "'acidity_1']\n",
    "\n",
    "\n",
    "formula = \"nitrate ~ \" + \" + \".join([f\"Q('{col}')\" for col in variable_names]) + \" + C(Q('soil region')) - 1\""
   ]
  },
  {
   "cell_type": "code",
   "execution_count": 487,
   "metadata": {},
   "outputs": [],
   "source": [
    "model_2 = smf.ols(formula, data=train_df_for_formula).fit()"
   ]
  },
  {
   "cell_type": "code",
   "execution_count": 488,
   "metadata": {},
   "outputs": [
    {
     "name": "stdout",
     "output_type": "stream",
     "text": [
      "                            OLS Regression Results                            \n",
      "==============================================================================\n",
      "Dep. Variable:                nitrate   R-squared:                       0.460\n",
      "Model:                            OLS   Adj. R-squared:                  0.419\n",
      "Method:                 Least Squares   F-statistic:                     11.16\n",
      "Date:                Sun, 15 Jun 2025   Prob (F-statistic):           8.95e-15\n",
      "Time:                        13:43:11   Log-Likelihood:                -175.31\n",
      "No. Observations:                 156   AIC:                             374.6\n",
      "Df Residuals:                     144   BIC:                             411.2\n",
      "Df Model:                          11                                         \n",
      "Covariance Type:            nonrobust                                         \n",
      "===============================================================================================\n",
      "                                  coef    std err          t      P>|t|      [0.025      0.975]\n",
      "-----------------------------------------------------------------------------------------------\n",
      "C(Q('soil region'))[klei]       0.7074      0.154      4.601      0.000       0.404       1.011\n",
      "C(Q('soil region'))[veen]       1.0473      0.286      3.666      0.000       0.483       1.612\n",
      "C(Q('soil region'))[zand]       0.9858      0.109      9.077      0.000       0.771       1.200\n",
      "Q('population')                 0.0085      0.067      0.127      0.899      -0.124       0.141\n",
      "Q('groundwater depth')          0.2441      0.090      2.725      0.007       0.067       0.421\n",
      "Q('elevation')                  0.1854      0.082      2.270      0.025       0.024       0.347\n",
      "Q('precipitation')             -0.0466      0.064     -0.730      0.466      -0.173       0.080\n",
      "Q('temperature')               -0.2046      0.066     -3.083      0.002      -0.336      -0.073\n",
      "Q('n deposition')              -0.0551      0.080     -0.687      0.493      -0.214       0.103\n",
      "Q('organicmattercontent_1')    -0.2500      0.181     -1.383      0.169      -0.608       0.107\n",
      "Q('density_1')                  0.0695      0.191      0.364      0.716      -0.308       0.447\n",
      "Q('acidity_1')                 -0.2384      0.079     -3.007      0.003      -0.395      -0.082\n",
      "==============================================================================\n",
      "Omnibus:                        4.502   Durbin-Watson:                   2.070\n",
      "Prob(Omnibus):                  0.105   Jarque-Bera (JB):                4.578\n",
      "Skew:                           0.397   Prob(JB):                        0.101\n",
      "Kurtosis:                       2.730   Cond. No.                         7.97\n",
      "==============================================================================\n",
      "\n",
      "Notes:\n",
      "[1] Standard Errors assume that the covariance matrix of the errors is correctly specified.\n"
     ]
    }
   ],
   "source": [
    "print(model_2.summary())"
   ]
  },
  {
   "cell_type": "markdown",
   "metadata": {},
   "source": [
    "#### Wells on **zand** soils have significantly **higher nitrate** concentrations, even when controlling for depth, population, temperature"
   ]
  },
  {
   "cell_type": "markdown",
   "metadata": {},
   "source": [
    "--> The log nitrate concentration is, on average, 0.7 units lower in klei (clay) regions"
   ]
  },
  {
   "cell_type": "code",
   "execution_count": 489,
   "metadata": {},
   "outputs": [
    {
     "data": {
      "text/html": [
       "<div>\n",
       "<style scoped>\n",
       "    .dataframe tbody tr th:only-of-type {\n",
       "        vertical-align: middle;\n",
       "    }\n",
       "\n",
       "    .dataframe tbody tr th {\n",
       "        vertical-align: top;\n",
       "    }\n",
       "\n",
       "    .dataframe thead th {\n",
       "        text-align: right;\n",
       "    }\n",
       "</style>\n",
       "<table border=\"1\" class=\"dataframe\">\n",
       "  <thead>\n",
       "    <tr style=\"text-align: right;\">\n",
       "      <th></th>\n",
       "      <th>soil_region</th>\n",
       "      <th>Coef.</th>\n",
       "      <th>Std. Error</th>\n",
       "      <th>P-Value</th>\n",
       "    </tr>\n",
       "  </thead>\n",
       "  <tbody>\n",
       "    <tr>\n",
       "      <th>C(Q('soil region'))[klei]</th>\n",
       "      <td>C(Q('soil region'))[klei]</td>\n",
       "      <td>0.707411</td>\n",
       "      <td>0.153742</td>\n",
       "      <td>9.130711e-06</td>\n",
       "    </tr>\n",
       "    <tr>\n",
       "      <th>C(Q('soil region'))[veen]</th>\n",
       "      <td>C(Q('soil region'))[veen]</td>\n",
       "      <td>1.047345</td>\n",
       "      <td>0.285668</td>\n",
       "      <td>3.453856e-04</td>\n",
       "    </tr>\n",
       "    <tr>\n",
       "      <th>C(Q('soil region'))[zand]</th>\n",
       "      <td>C(Q('soil region'))[zand]</td>\n",
       "      <td>0.985805</td>\n",
       "      <td>0.108608</td>\n",
       "      <td>7.750353e-16</td>\n",
       "    </tr>\n",
       "  </tbody>\n",
       "</table>\n",
       "</div>"
      ],
      "text/plain": [
       "                                         soil_region     Coef.  Std. Error  \\\n",
       "C(Q('soil region'))[klei]  C(Q('soil region'))[klei]  0.707411    0.153742   \n",
       "C(Q('soil region'))[veen]  C(Q('soil region'))[veen]  1.047345    0.285668   \n",
       "C(Q('soil region'))[zand]  C(Q('soil region'))[zand]  0.985805    0.108608   \n",
       "\n",
       "                                P-Value  \n",
       "C(Q('soil region'))[klei]  9.130711e-06  \n",
       "C(Q('soil region'))[veen]  3.453856e-04  \n",
       "C(Q('soil region'))[zand]  7.750353e-16  "
      ]
     },
     "execution_count": 489,
     "metadata": {},
     "output_type": "execute_result"
    }
   ],
   "source": [
    "sfe_names = [i for i in model_2.params.index if \"C(Q('soil region'))\" in i]\n",
    "\n",
    "soil_region_labels = []\n",
    "for name in sfe_names:\n",
    "    match = re.search(r\"\\[T\\.(.*)\\]\", name)\n",
    "    if match:\n",
    "        soil_region_labels.append(match.group(1))\n",
    "    else:\n",
    "        soil_region_labels.append(name)\n",
    "\n",
    "soil_fixed_effects = pd.DataFrame({\n",
    "    \"soil_region\": soil_region_labels,\n",
    "    \"Coef.\": model_2.params[sfe_names],\n",
    "    \"Std. Error\": model_2.bse[sfe_names],\n",
    "    \"P-Value\": model_2.pvalues[sfe_names],\n",
    "})\n",
    "\n",
    "soil_fixed_effects"
   ]
  },
  {
   "cell_type": "code",
   "execution_count": 490,
   "metadata": {},
   "outputs": [],
   "source": [
    "y_pred = model_2.predict(test_df_for_formula)"
   ]
  },
  {
   "cell_type": "code",
   "execution_count": 491,
   "metadata": {},
   "outputs": [
    {
     "name": "stdout",
     "output_type": "stream",
     "text": [
      "Test R2: 0.12686596063764288\n",
      "Test MAE: 0.648370108355545\n",
      "Test RMSE: 3.9929008477469328\n"
     ]
    }
   ],
   "source": [
    "print(\"Test R2:\", r2_score(np.expm1(y_test),  np.expm1(y_pred)))\n",
    "print(\"Test MAE:\",mean_absolute_error(y_test, y_pred))\n",
    "print(\"Test RMSE:\", sqrt(mean_squared_error(np.expm1(y_test), np.expm1(y_pred))))"
   ]
  },
  {
   "cell_type": "markdown",
   "metadata": {},
   "source": [
    "## Spatial Regimes"
   ]
  },
  {
   "cell_type": "markdown",
   "metadata": {},
   "source": [
    "--> We modify set of coeficients depending on the location\n",
    "\n",
    "--> Spatial regimes (SRs) is to generalize the spatial FE approach to allow not only the constant term to vary but also any other explanatory variable\n",
    "\n",
    "--> We want the whole model — intercept and slopes — to vary between geographic groups"
   ]
  },
  {
   "cell_type": "code",
   "execution_count": 492,
   "metadata": {},
   "outputs": [
    {
     "name": "stdout",
     "output_type": "stream",
     "text": [
      "Train: 156\n",
      "Test: 39\n",
      "['mainsoilclassification_1_Kalkloze zandgronden', 'mainsoilclassification_1_Moerige gronden', 'mainsoilclassification_1_Podzolgronden', 'mainsoilclassification_1_Rivierkleigronden', 'mainsoilclassification_1_Veengronden', 'mainsoilclassification_1_Zeekleigronden', 'population', 'groundwater depth', 'elevation', 'precipitation', 'temperature', 'n deposition', 'organicmattercontent_1', 'density_1', 'acidity_1']\n",
      "(156, 15)\n"
     ]
    }
   ],
   "source": [
    "cols_to_drop_3 = ['landuse code']\n",
    "holdout_cols = ['soil region']\n",
    "\n",
    "X_train, y_train, X_test, y_test, feature_names, preprocessor = split_and_preprocess(df, cols_to_drop_3, holdout_cols)"
   ]
  },
  {
   "cell_type": "code",
   "execution_count": 493,
   "metadata": {},
   "outputs": [],
   "source": [
    "variable_names = ['population',\n",
    "'groundwater depth',\n",
    "'elevation',\n",
    "'precipitation',\n",
    "'temperature',\n",
    "'n deposition',\n",
    "'organicmattercontent_1',\n",
    "'density_1',\n",
    "'acidity_1']"
   ]
  },
  {
   "cell_type": "code",
   "execution_count": 494,
   "metadata": {},
   "outputs": [],
   "source": [
    "m5 = spreg.OLS_Regimes(\n",
    "    y_train.values,\n",
    "    X_train[variable_names].values,\n",
    "    X_train[\"soil region\"].tolist(),\n",
    "    constant_regi=\"many\",\n",
    "    regime_err_sep=False,\n",
    "    name_y=\"nitrate\",\n",
    "    name_x=variable_names\n",
    ")"
   ]
  },
  {
   "cell_type": "code",
   "execution_count": 496,
   "metadata": {},
   "outputs": [
    {
     "name": "stdout",
     "output_type": "stream",
     "text": [
      "REGRESSION RESULTS\n",
      "------------------\n",
      "\n",
      "SUMMARY OF OUTPUT: ORDINARY LEAST SQUARES - REGIMES\n",
      "---------------------------------------------------\n",
      "Data set            :     unknown\n",
      "Weights matrix      :        None\n",
      "Dependent Variable  :     nitrate                Number of Observations:         156\n",
      "Mean dependent var  :      0.8999                Number of Variables   :          30\n",
      "S.D. dependent var  :      1.0164                Degrees of Freedom    :         126\n",
      "R-squared           :      0.5595\n",
      "Adjusted R-squared  :      0.4581\n",
      "Sum squared residual:     70.5337                F-statistic           :      5.5043\n",
      "Sigma-square        :       0.560                Prob(F-statistic)     :   6.789e-12\n",
      "S.E. of regression  :       0.748                Log likelihood        :    -159.441\n",
      "Sigma-square ML     :       0.452                Akaike info criterion :     378.881\n",
      "S.E of regression ML:      0.6724                Schwarz criterion     :     470.377\n",
      "\n",
      "------------------------------------------------------------------------------------\n",
      "            Variable     Coefficient       Std.Error     t-Statistic     Probability\n",
      "------------------------------------------------------------------------------------\n",
      "       klei_CONSTANT         1.25230         0.24622         5.08608         0.00000\n",
      "     klei_population         1.34990         1.05892         1.27480         0.20473\n",
      "klei_groundwater depth         0.06703         0.44006         0.15233         0.87917\n",
      "      klei_elevation         1.05244         0.90385         1.16440         0.24646\n",
      "  klei_precipitation        -0.02874         0.10307        -0.27880         0.78085\n",
      "    klei_temperature        -0.05608         0.13525        -0.41464         0.67911\n",
      "   klei_n deposition         0.03570         0.28001         0.12750         0.89875\n",
      "klei_organicmattercontent_1         0.10086         0.58505         0.17240         0.86340\n",
      "      klei_density_1         0.35911         0.29308         1.22529         0.22275\n",
      "      klei_acidity_1        -0.10548         0.21283        -0.49563         0.62102\n",
      "       veen_CONSTANT        -0.12500    9130382.81523        -0.00000         1.00000\n",
      "     veen_population        -2.16743        54.94010        -0.03945         0.96859\n",
      "veen_groundwater depth         0.07510         1.64483         0.04566         0.96365\n",
      "      veen_elevation         0.40625    9731273.72019         0.00000         1.00000\n",
      "  veen_precipitation         0.00140         0.66544         0.00210         0.99833\n",
      "    veen_temperature         0.00618         0.36721         0.01683         0.98660\n",
      "   veen_n deposition        -0.02709         1.05510        -0.02568         0.97955\n",
      "veen_organicmattercontent_1         0.10254    552281.15986         0.00000         1.00000\n",
      "      veen_density_1         0.02539    818685.89317         0.00000         1.00000\n",
      "      veen_acidity_1        -0.01595         0.65454        -0.02436         0.98060\n",
      "       zand_CONSTANT         1.49740         0.23167         6.46341         0.00000\n",
      "     zand_population         0.00387         0.06683         0.05790         0.95392\n",
      "zand_groundwater depth         0.14135         0.10753         1.31450         0.19107\n",
      "      zand_elevation         0.11490         0.08373         1.37222         0.17243\n",
      "  zand_precipitation        -0.07517         0.08693        -0.86476         0.38881\n",
      "    zand_temperature        -0.27730         0.08233        -3.36819         0.00100\n",
      "   zand_n deposition        -0.19512         0.09621        -2.02806         0.04466\n",
      "zand_organicmattercontent_1        -1.57234         0.54631        -2.87812         0.00470\n",
      "      zand_density_1        -1.52351         0.68069        -2.23820         0.02696\n",
      "      zand_acidity_1        -0.27226         0.08882        -3.06525         0.00266\n",
      "------------------------------------------------------------------------------------\n",
      "Regimes variable: unknown\n",
      "\n",
      "REGIMES DIAGNOSTICS\n",
      "Overall SSR         :         70.53\n",
      "Number of clusters  :             3\n",
      "\n",
      "- CHOW TEST -\n",
      "                 VARIABLE        DF        VALUE           PROB\n",
      "            CONSTANT              2          0.526           0.7689\n",
      "          population              2          1.611           0.4469\n",
      "   groundwater depth              2          0.028           0.9859\n",
      "           elevation              2          1.067           0.5866\n",
      "       precipitation              2          0.126           0.9390\n",
      "         temperature              2          2.310           0.3151\n",
      "        n deposition              2          0.626           0.7312\n",
      "organicmattercontent_1              2          4.369           0.1125\n",
      "           density_1              2          6.453           0.0397\n",
      "           acidity_1              2          0.646           0.7239\n",
      "         Global test             20         31.328           0.0510\n",
      "\n",
      "REGRESSION DIAGNOSTICS\n",
      "MULTICOLLINEARITY CONDITION NUMBER   580156544.570\n",
      "\n",
      "TEST ON NORMALITY OF ERRORS\n",
      "TEST                             DF        VALUE           PROB\n",
      "Jarque-Bera                       2          3.177           0.2042\n",
      "\n",
      "DIAGNOSTICS FOR HETEROSKEDASTICITY\n",
      "RANDOM COEFFICIENTS\n",
      "TEST                             DF        VALUE           PROB\n",
      "Breusch-Pagan test               29         47.741           0.0156\n",
      "Koenker-Bassett test             29         67.296           0.0001\n",
      "================================ END OF REPORT =====================================\n"
     ]
    }
   ],
   "source": [
    "print(m5.summary)"
   ]
  },
  {
   "cell_type": "code",
   "execution_count": 497,
   "metadata": {},
   "outputs": [
    {
     "data": {
      "text/html": [
       "<div>\n",
       "<style scoped>\n",
       "    .dataframe tbody tr th:only-of-type {\n",
       "        vertical-align: middle;\n",
       "    }\n",
       "\n",
       "    .dataframe tbody tr th {\n",
       "        vertical-align: top;\n",
       "    }\n",
       "\n",
       "    .dataframe thead tr th {\n",
       "        text-align: left;\n",
       "    }\n",
       "</style>\n",
       "<table border=\"1\" class=\"dataframe\">\n",
       "  <thead>\n",
       "    <tr>\n",
       "      <th></th>\n",
       "      <th colspan=\"3\" halign=\"left\">zand</th>\n",
       "      <th colspan=\"3\" halign=\"left\">veen</th>\n",
       "      <th colspan=\"3\" halign=\"left\">klei</th>\n",
       "    </tr>\n",
       "    <tr>\n",
       "      <th></th>\n",
       "      <th>Coeff.</th>\n",
       "      <th>Std. Error</th>\n",
       "      <th>P-Value</th>\n",
       "      <th>Coeff.</th>\n",
       "      <th>Std. Error</th>\n",
       "      <th>P-Value</th>\n",
       "      <th>Coeff.</th>\n",
       "      <th>Std. Error</th>\n",
       "      <th>P-Value</th>\n",
       "    </tr>\n",
       "  </thead>\n",
       "  <tbody>\n",
       "    <tr>\n",
       "      <th>CONSTANT</th>\n",
       "      <td>1.497400</td>\n",
       "      <td>0.231673</td>\n",
       "      <td>2.034788e-09</td>\n",
       "      <td>-0.125000</td>\n",
       "      <td>9.130383e+06</td>\n",
       "      <td>1.000000</td>\n",
       "      <td>1.252303</td>\n",
       "      <td>0.246222</td>\n",
       "      <td>0.000001</td>\n",
       "    </tr>\n",
       "    <tr>\n",
       "      <th>population</th>\n",
       "      <td>0.003870</td>\n",
       "      <td>0.066829</td>\n",
       "      <td>9.539168e-01</td>\n",
       "      <td>-2.167432</td>\n",
       "      <td>5.494010e+01</td>\n",
       "      <td>0.968593</td>\n",
       "      <td>1.349905</td>\n",
       "      <td>1.058916</td>\n",
       "      <td>0.204726</td>\n",
       "    </tr>\n",
       "    <tr>\n",
       "      <th>groundwater depth</th>\n",
       "      <td>0.141354</td>\n",
       "      <td>0.107535</td>\n",
       "      <td>1.910668e-01</td>\n",
       "      <td>0.075103</td>\n",
       "      <td>1.644834e+00</td>\n",
       "      <td>0.963653</td>\n",
       "      <td>0.067034</td>\n",
       "      <td>0.440063</td>\n",
       "      <td>0.879171</td>\n",
       "    </tr>\n",
       "    <tr>\n",
       "      <th>elevation</th>\n",
       "      <td>0.114902</td>\n",
       "      <td>0.083735</td>\n",
       "      <td>1.724342e-01</td>\n",
       "      <td>0.406250</td>\n",
       "      <td>9.731274e+06</td>\n",
       "      <td>1.000000</td>\n",
       "      <td>1.052444</td>\n",
       "      <td>0.903850</td>\n",
       "      <td>0.246461</td>\n",
       "    </tr>\n",
       "    <tr>\n",
       "      <th>precipitation</th>\n",
       "      <td>-0.075172</td>\n",
       "      <td>0.086928</td>\n",
       "      <td>3.888115e-01</td>\n",
       "      <td>0.001397</td>\n",
       "      <td>6.654430e-01</td>\n",
       "      <td>0.998328</td>\n",
       "      <td>-0.028737</td>\n",
       "      <td>0.103073</td>\n",
       "      <td>0.780852</td>\n",
       "    </tr>\n",
       "    <tr>\n",
       "      <th>temperature</th>\n",
       "      <td>-0.277304</td>\n",
       "      <td>0.082330</td>\n",
       "      <td>1.004090e-03</td>\n",
       "      <td>0.006181</td>\n",
       "      <td>3.672071e-01</td>\n",
       "      <td>0.986596</td>\n",
       "      <td>-0.056081</td>\n",
       "      <td>0.135252</td>\n",
       "      <td>0.679110</td>\n",
       "    </tr>\n",
       "    <tr>\n",
       "      <th>n deposition</th>\n",
       "      <td>-0.195119</td>\n",
       "      <td>0.096210</td>\n",
       "      <td>4.466224e-02</td>\n",
       "      <td>-0.027093</td>\n",
       "      <td>1.055101e+00</td>\n",
       "      <td>0.979555</td>\n",
       "      <td>0.035700</td>\n",
       "      <td>0.280011</td>\n",
       "      <td>0.898752</td>\n",
       "    </tr>\n",
       "    <tr>\n",
       "      <th>organicmattercontent_1</th>\n",
       "      <td>-1.572345</td>\n",
       "      <td>0.546310</td>\n",
       "      <td>4.700925e-03</td>\n",
       "      <td>0.102539</td>\n",
       "      <td>5.522812e+05</td>\n",
       "      <td>1.000000</td>\n",
       "      <td>0.100864</td>\n",
       "      <td>0.585055</td>\n",
       "      <td>0.863399</td>\n",
       "    </tr>\n",
       "    <tr>\n",
       "      <th>density_1</th>\n",
       "      <td>-1.523511</td>\n",
       "      <td>0.680685</td>\n",
       "      <td>2.696373e-02</td>\n",
       "      <td>0.025391</td>\n",
       "      <td>8.186859e+05</td>\n",
       "      <td>1.000000</td>\n",
       "      <td>0.359111</td>\n",
       "      <td>0.293081</td>\n",
       "      <td>0.222750</td>\n",
       "    </tr>\n",
       "    <tr>\n",
       "      <th>acidity_1</th>\n",
       "      <td>-0.272258</td>\n",
       "      <td>0.088821</td>\n",
       "      <td>2.661321e-03</td>\n",
       "      <td>-0.015947</td>\n",
       "      <td>6.545416e-01</td>\n",
       "      <td>0.980601</td>\n",
       "      <td>-0.105485</td>\n",
       "      <td>0.212831</td>\n",
       "      <td>0.621022</td>\n",
       "    </tr>\n",
       "  </tbody>\n",
       "</table>\n",
       "</div>"
      ],
      "text/plain": [
       "                            zand                               veen  \\\n",
       "                          Coeff. Std. Error       P-Value    Coeff.   \n",
       "CONSTANT                1.497400   0.231673  2.034788e-09 -0.125000   \n",
       "population              0.003870   0.066829  9.539168e-01 -2.167432   \n",
       "groundwater depth       0.141354   0.107535  1.910668e-01  0.075103   \n",
       "elevation               0.114902   0.083735  1.724342e-01  0.406250   \n",
       "precipitation          -0.075172   0.086928  3.888115e-01  0.001397   \n",
       "temperature            -0.277304   0.082330  1.004090e-03  0.006181   \n",
       "n deposition           -0.195119   0.096210  4.466224e-02 -0.027093   \n",
       "organicmattercontent_1 -1.572345   0.546310  4.700925e-03  0.102539   \n",
       "density_1              -1.523511   0.680685  2.696373e-02  0.025391   \n",
       "acidity_1              -0.272258   0.088821  2.661321e-03 -0.015947   \n",
       "\n",
       "                                                    klei                       \n",
       "                          Std. Error   P-Value    Coeff. Std. Error   P-Value  \n",
       "CONSTANT                9.130383e+06  1.000000  1.252303   0.246222  0.000001  \n",
       "population              5.494010e+01  0.968593  1.349905   1.058916  0.204726  \n",
       "groundwater depth       1.644834e+00  0.963653  0.067034   0.440063  0.879171  \n",
       "elevation               9.731274e+06  1.000000  1.052444   0.903850  0.246461  \n",
       "precipitation           6.654430e-01  0.998328 -0.028737   0.103073  0.780852  \n",
       "temperature             3.672071e-01  0.986596 -0.056081   0.135252  0.679110  \n",
       "n deposition            1.055101e+00  0.979555  0.035700   0.280011  0.898752  \n",
       "organicmattercontent_1  5.522812e+05  1.000000  0.100864   0.585055  0.863399  \n",
       "density_1               8.186859e+05  1.000000  0.359111   0.293081  0.222750  \n",
       "acidity_1               6.545416e-01  0.980601 -0.105485   0.212831  0.621022  "
      ]
     },
     "execution_count": 497,
     "metadata": {},
     "output_type": "execute_result"
    }
   ],
   "source": [
    "res = pd.DataFrame({\n",
    "    \"Coeff.\": m5.betas.flatten(),\n",
    "    \"Std. Error\": m5.std_err.flatten(),\n",
    "    \"P-Value\": [i[1] for i in m5.t_stat],\n",
    "}, index=m5.name_x)\n",
    "\n",
    "soil_types = df[\"soil region\"].unique()\n",
    "\n",
    "regime_tables = []\n",
    "for soil in soil_types:\n",
    "    matching_rows = [i for i in res.index if i.startswith(f\"{soil}_\")]\n",
    "    regime_res = res.loc[matching_rows].rename(lambda i: i.replace(f\"{soil}_\", \"\"))\n",
    "    regime_res.columns = pd.MultiIndex.from_product([[soil], regime_res.columns])\n",
    "    regime_tables.append(regime_res)\n",
    "\n",
    "comparison_table = pd.concat(regime_tables, axis=1)\n",
    "\n",
    "comparison_table"
   ]
  },
  {
   "cell_type": "markdown",
   "metadata": {},
   "source": [
    "CHOW test check if coefficients for each predictor is statistically different across the groups (klei vs zand)"
   ]
  },
  {
   "cell_type": "code",
   "execution_count": 498,
   "metadata": {},
   "outputs": [],
   "source": [
    "# ‣ 1. Flatten the coefficient vector from the fitted model\n",
    "beta_vec = m5.betas.flatten()  \n",
    "#    shape = (R*(1 + len(variable_names)),)  \n",
    "\n",
    "# ‣ 2. Recover the exact “regime order” that PySAL used internally.\n",
    "#    m5.name_x is a list like [\"clay_CONSTANT\", \"clay_population\", …, \"sand_CONSTANT\", …, …].\n",
    "regime_order = []\n",
    "for nm in m5.name_x:\n",
    "    soil = nm.split(\"_\")[0]\n",
    "    if soil not in regime_order:\n",
    "        regime_order.append(soil)\n",
    "#    Now regime_order = [ \"clay\", \"sand\", \"peaty\", … ] in the precise sequence PySAL stacked them.\n",
    "\n",
    "R = len(regime_order)\n",
    "K = len(variable_names)\n",
    "n_test = X_test.shape[0]\n",
    "\n",
    "# ‣ 3. Build the “extended” test‐matrix of size (n_test, R*(1+K)).\n",
    "#    Column‐block layout: for regime i = 0..R−1,\n",
    "#      column  i*(K+1)   = intercept_dummy_i  = (soil_region == regime_i ? 1 : 0)\n",
    "#      columns i*(K+1)+1 ... i*(K+1)+K =  (soil_region == regime_i) *  X_test[var_k]\n",
    "X_test_ext = np.zeros((n_test, R * (K + 1)))\n",
    "\n",
    "for i, regime in enumerate(regime_order):\n",
    "    # Boolean mask of shape (n_test,): 1 if this test‐row belongs to `regime`, else 0\n",
    "    mask = (X_test[\"soil region\"] == regime).astype(int).values\n",
    "\n",
    "    # intercept dummy for regime i\n",
    "    X_test_ext[:, i * (K + 1)] = mask\n",
    "\n",
    "    # for each covariate k, multiply mask * X_test[var_k]\n",
    "    for j, var in enumerate(variable_names):\n",
    "        X_test_ext[:, i * (K + 1) + 1 + j] = mask * X_test[var].values"
   ]
  },
  {
   "cell_type": "code",
   "execution_count": 499,
   "metadata": {},
   "outputs": [
    {
     "name": "stdout",
     "output_type": "stream",
     "text": [
      "Test RMSE (log1p‐nitrate): 0.7186\n",
      "Test RMSE (original‐nitrate): 3.2975\n",
      "Test  R² (log1p‐nitrate): 0.3709\n",
      "Test  R² (original‐nitrate): 0.4045\n"
     ]
    }
   ],
   "source": [
    "# ‣ 4. Form y_test as a 1D array of the log1p(nitrate) target\n",
    "y_test_log = y_test[\"nitrate\"].values.flatten()\n",
    "\n",
    "# ‣ 5. Compute predicted log1p(nitrate) on the test set\n",
    "y_pred_log = X_test_ext.dot(beta_vec)\n",
    "\n",
    "# ‣ 6. Evaluate in log‐space (for example, RMSE in log1p scale)\n",
    "mse_log = mean_squared_error(y_test_log, y_pred_log)\n",
    "rmse_log = np.sqrt(mse_log)\n",
    "print(f\"Test RMSE (log1p‐nitrate): {rmse_log:.4f}\")\n",
    "\n",
    "# ‣ 7. If you also want an “original‐scale” error, back‐transform both sides:\n",
    "y_test_orig = np.expm1(y_test_log)     # invert log1p\n",
    "y_pred_orig = np.expm1(y_pred_log)\n",
    "\n",
    "mse_orig = mean_squared_error(y_test_orig, y_pred_orig)\n",
    "rmse_orig = np.sqrt(mse_orig)\n",
    "print(f\"Test RMSE (original‐nitrate): {rmse_orig:.4f}\")\n",
    "\n",
    "r2_log = r2_score(y_test_log, y_pred_log)\n",
    "print(f\"Test  R² (log1p‐nitrate): {r2_log:.4f}\")\n",
    "\n",
    "# 2) R² on the original‐nitrate scale\n",
    "r2_orig = r2_score(y_test_orig, y_pred_orig)\n",
    "print(f\"Test  R² (original‐nitrate): {r2_orig:.4f}\")"
   ]
  },
  {
   "cell_type": "code",
   "execution_count": 500,
   "metadata": {},
   "outputs": [
    {
     "data": {
      "text/plain": [
       "(31.328117806090198, 0.051005100356342176)"
      ]
     },
     "execution_count": 500,
     "metadata": {},
     "output_type": "execute_result"
    }
   ],
   "source": [
    "m5.chow.joint"
   ]
  },
  {
   "cell_type": "code",
   "execution_count": 501,
   "metadata": {},
   "outputs": [
    {
     "data": {
      "text/html": [
       "<div>\n",
       "<style scoped>\n",
       "    .dataframe tbody tr th:only-of-type {\n",
       "        vertical-align: middle;\n",
       "    }\n",
       "\n",
       "    .dataframe tbody tr th {\n",
       "        vertical-align: top;\n",
       "    }\n",
       "\n",
       "    .dataframe thead th {\n",
       "        text-align: right;\n",
       "    }\n",
       "</style>\n",
       "<table border=\"1\" class=\"dataframe\">\n",
       "  <thead>\n",
       "    <tr style=\"text-align: right;\">\n",
       "      <th></th>\n",
       "      <th>Statistic</th>\n",
       "      <th>P-value</th>\n",
       "    </tr>\n",
       "  </thead>\n",
       "  <tbody>\n",
       "    <tr>\n",
       "      <th>CONSTANT</th>\n",
       "      <td>0.525576</td>\n",
       "      <td>0.768905</td>\n",
       "    </tr>\n",
       "    <tr>\n",
       "      <th>population</th>\n",
       "      <td>1.610967</td>\n",
       "      <td>0.446872</td>\n",
       "    </tr>\n",
       "    <tr>\n",
       "      <th>groundwater depth</th>\n",
       "      <td>0.028333</td>\n",
       "      <td>0.985933</td>\n",
       "    </tr>\n",
       "    <tr>\n",
       "      <th>elevation</th>\n",
       "      <td>1.066788</td>\n",
       "      <td>0.586611</td>\n",
       "    </tr>\n",
       "    <tr>\n",
       "      <th>precipitation</th>\n",
       "      <td>0.125934</td>\n",
       "      <td>0.938974</td>\n",
       "    </tr>\n",
       "    <tr>\n",
       "      <th>temperature</th>\n",
       "      <td>2.309925</td>\n",
       "      <td>0.315069</td>\n",
       "    </tr>\n",
       "    <tr>\n",
       "      <th>n deposition</th>\n",
       "      <td>0.626158</td>\n",
       "      <td>0.731192</td>\n",
       "    </tr>\n",
       "    <tr>\n",
       "      <th>organicmattercontent_1</th>\n",
       "      <td>4.369340</td>\n",
       "      <td>0.112515</td>\n",
       "    </tr>\n",
       "    <tr>\n",
       "      <th>density_1</th>\n",
       "      <td>6.453163</td>\n",
       "      <td>0.039693</td>\n",
       "    </tr>\n",
       "    <tr>\n",
       "      <th>acidity_1</th>\n",
       "      <td>0.646182</td>\n",
       "      <td>0.723908</td>\n",
       "    </tr>\n",
       "  </tbody>\n",
       "</table>\n",
       "</div>"
      ],
      "text/plain": [
       "                        Statistic   P-value\n",
       "CONSTANT                 0.525576  0.768905\n",
       "population               1.610967  0.446872\n",
       "groundwater depth        0.028333  0.985933\n",
       "elevation                1.066788  0.586611\n",
       "precipitation            0.125934  0.938974\n",
       "temperature              2.309925  0.315069\n",
       "n deposition             0.626158  0.731192\n",
       "organicmattercontent_1   4.369340  0.112515\n",
       "density_1                6.453163  0.039693\n",
       "acidity_1                0.646182  0.723908"
      ]
     },
     "execution_count": 501,
     "metadata": {},
     "output_type": "execute_result"
    }
   ],
   "source": [
    "pd.DataFrame(\n",
    "    m5.chow.regi,\n",
    "    index=m5.name_x_r,\n",
    "    columns=[\"Statistic\", \"P-value\"],\n",
    ")"
   ]
  }
 ],
 "metadata": {
  "kernelspec": {
   "display_name": "spatial_env",
   "language": "python",
   "name": "python3"
  },
  "language_info": {
   "codemirror_mode": {
    "name": "ipython",
    "version": 3
   },
   "file_extension": ".py",
   "mimetype": "text/x-python",
   "name": "python",
   "nbconvert_exporter": "python",
   "pygments_lexer": "ipython3",
   "version": "3.9.6"
  }
 },
 "nbformat": 4,
 "nbformat_minor": 2
}
